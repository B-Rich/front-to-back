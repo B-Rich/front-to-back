{
 "metadata": {
  "name": "",
  "signature": "sha256:72d9cce66668b9e7c7a25200f7339e063841df30f8b0f4a508535d0084ab707f"
 },
 "nbformat": 3,
 "nbformat_minor": 0,
 "worksheets": [
  {
   "cells": [
    {
     "cell_type": "markdown",
     "metadata": {},
     "source": [
      "<br><br><br><br>"
     ]
    },
    {
     "cell_type": "heading",
     "level": 1,
     "metadata": {},
     "source": [
      "<center>IPython Frontends and Kernels</center>"
     ]
    },
    {
     "cell_type": "markdown",
     "metadata": {},
     "source": [
      "<center><br><br><br><br><br>\n",
      "<h2> \"Living the Dream!\" </h2>\n",
      "<br><br><br><br><br>\n",
      "\n",
      "with [Paul Ivanov](http://twitter.com/ivanov) and [Thomas Kluyver](https://twitter.com/takluyver)\n",
      "\n",
      "<br><br><br><br><br>\n",
      "<br><br><br><br><br>\n",
      "<br><br><br><br><br>\n",
      "(thanks to [Jonathan Frederic]() for presentation shortcuts)\n",
      "</center>"
     ]
    },
    {
     "cell_type": "heading",
     "level": 1,
     "metadata": {},
     "source": [
      "&nbsp;"
     ]
    },
    {
     "cell_type": "markdown",
     "metadata": {},
     "source": [
      "The logistics of this presentation\n",
      "\n",
      "![ ](/files/images/horse.jpg)"
     ]
    },
    {
     "cell_type": "heading",
     "level": 1,
     "metadata": {},
     "source": [
      "What is IPython?"
     ]
    },
    {
     "cell_type": "markdown",
     "metadata": {},
     "source": [
      "\n",
      "\n",
      "\n",
      "![ipython universe](/files/images/ipython-uni.png)\n",
      "\n",
      "\n",
      "The punchline..."
     ]
    },
    {
     "cell_type": "markdown",
     "metadata": {},
     "source": [
      "\"Why should I care?\"\n",
      "\n",
      "Implement one piece - and get the others for free.\n",
      "\n",
      "Free as in BSD."
     ]
    },
    {
     "cell_type": "markdown",
     "metadata": {},
     "source": [
      "OOS: Out of Scope for this presentation...\n",
      "    \n",
      "    \n",
      "![ipython universe](/files/images/ipython-oos.png)"
     ]
    },
    {
     "cell_type": "heading",
     "level": 1,
     "metadata": {},
     "source": [
      "Analogy \n",
      "\n",
      "(imperfect, but useful)"
     ]
    },
    {
     "cell_type": "markdown",
     "metadata": {},
     "source": [
      "<table>\n",
      "\n",
      "    <tr><th>The Web</th><th width=400px></th><th>IPython</th></tr>\n",
      "    <tr><td>\n",
      "        Browser\n",
      "        <br>\n",
      "        ![](/files/images/nextstation.jpg)\n",
      "        </td>\n",
      "\n",
      "        <td width=400px></td>\n",
      "        <td>\n",
      "        Client\n",
      "        <br>\n",
      "        ![](/files/images/computer.png)\n",
      "        </td>\n",
      "    </tr>\n",
      "   \n",
      "    <tr><td>\n",
      "        | HTTP\n",
      "        </td>\n",
      "\n",
      "        <td width=400px></td>\n",
      "        <td>\n",
      "        | \"ICCP\"\n",
      "        </td>\n",
      "    </tr>\n",
      "    \n",
      "    <tr><td>\n",
      "        Webserver\n",
      "        <br>\n",
      "        ![](/files/images/next.jpg)\n",
      "        </td>\n",
      "\n",
      "        <td width=400px></td>\n",
      "        <td>\n",
      "        Kernel\n",
      "        <br>\n",
      "        ![](/files/images/pdp12.jpg)\n",
      "        </td>\n",
      "    </tr>\n",
      "\n",
      "</table>"
     ]
    },
    {
     "cell_type": "heading",
     "level": 1,
     "metadata": {},
     "source": [
      "ICCP?"
     ]
    },
    {
     "cell_type": "markdown",
     "metadata": {},
     "source": [
      "Interactive Computing Communication Protocol\n",
      "\n",
      "I wanted \"IPython Protocol\" - but IP was already taken :\\\n",
      "\n",
      "\"Interactive Computing Protocol\" - also taken (\"[Internet Cache\n",
      "Protocol](http://en.wikipedia.org/wiki/Internet_Cache_Protocol)\", RFCs\n",
      "[2186](http://tools.ietf.org/html/rfc2186) and\n",
      "[2187](http://tools.ietf.org/html/rfc2187))"
     ]
    },
    {
     "cell_type": "heading",
     "level": 1,
     "metadata": {},
     "source": [
      "Kernel"
     ]
    },
    {
     "cell_type": "markdown",
     "metadata": {},
     "source": [
      "Computational Engine\n",
      "\n",
      "- accepts messages\n",
      "- performs actions\n",
      "- sends out results"
     ]
    },
    {
     "cell_type": "heading",
     "level": 1,
     "metadata": {},
     "source": [
      "One-to-Many (Kernel to Clients)"
     ]
    },
    {
     "cell_type": "markdown",
     "metadata": {},
     "source": [
      "console     vim-ipython     bipython    qtconsole   vim-ipython\n",
      "\n",
      "\n",
      "kernel"
     ]
    },
    {
     "cell_type": "heading",
     "level": 1,
     "metadata": {},
     "source": [
      "Anatomy of a Message"
     ]
    },
    {
     "cell_type": "markdown",
     "metadata": {},
     "source": [
      "In brief, read [the messaging\n",
      "spec](http://ipython.org/ipython-doc/dev/development/messaging.html) for more\n",
      "details.\n",
      "\n",
      "Essential fields:\n",
      "\n",
      "    header:\n",
      "        msg_id:\n",
      "        msg_type: execute_request, execute_reply, object_info_request,\n",
      "        complete_request, complete_reply, history_request\n",
      "\n",
      "    parent_header: (see above)\n",
      "\n",
      "    content: structure depends on message type\n",
      "\n",
      "        example: `execute_request`\n",
      "            - `code` (str)\n",
      "            - `silent` (bool)\n",
      "            - `store_history` (bool)\n",
      "\n",
      "        example: `execute_reply`\n",
      "            - `status` ('ok', 'error', or 'abort')\n",
      "            - `execution count` (prompt numbers)"
     ]
    },
    {
     "cell_type": "heading",
     "level": 1,
     "metadata": {},
     "source": [
      "Client"
     ]
    },
    {
     "cell_type": "markdown",
     "metadata": {},
     "source": [
      "- connects to exactly one kernel\n",
      "- send messages to kernel based on user actions\n",
      "- displays kernel messages when appropriate"
     ]
    },
    {
     "cell_type": "heading",
     "level": 1,
     "metadata": {},
     "source": [
      "Why have many clients?"
     ]
    },
    {
     "cell_type": "code",
     "collapsed": false,
     "input": [],
     "language": "python",
     "metadata": {},
     "outputs": []
    },
    {
     "cell_type": "heading",
     "level": 1,
     "metadata": {},
     "source": [
      "Clients"
     ]
    },
    {
     "cell_type": "markdown",
     "metadata": {},
     "source": [
      "## ship with ipython:\n",
      "\n",
      "`ipython qtconsole` - the original decoupling, uses Qt4\n",
      "\n",
      "`ipython console` - terminal version, decoupled \n",
      "\n",
      "- (different from the classic single process `ipython`)\n",
      "\n",
      "both of these actually start a kernel and a client, \n",
      "  pass `--existing` flag to not start a *new* kernel \n",
      "  and instead simply connect to one that already\n",
      "    exists\n",
      "`ipython notebook` &diams; &diams; - more on this later\n",
      "\n",
      "## 3rd party\n",
      "[vim-ipython](https://github.com/ivanov/vim-ipython)\n",
      "\n",
      "[bipython](http://bipython.org)\n",
      "\n",
      "[EIN - Emacs IPython Notebook](http://tkf.github.io/emacs-ipython-notebook/) (OOS)"
     ]
    },
    {
     "cell_type": "heading",
     "level": 1,
     "metadata": {},
     "source": [
      "[vim-ipython](https://github.com/ivanov/vim-ipython)"
     ]
    },
    {
     "cell_type": "markdown",
     "metadata": {},
     "source": [
      "[vim](http://vim.org) plugin first written during the sprints at [SciPy\n",
      "2011](http://conference.scipy.org/scipy2011/)\n",
      "\n",
      "[demo #1](files/images/demo1.mp4) [demo #2](files/images/demo1.mp4)\n",
      "\n",
      "vim-ipython common problem (e.g. OS X)\n",
      "\n",
      "Vim needs to be compiled with Python support (`vim --version | grep +python`)\n",
      "AND the Python linked must have IPython with ZeroMQ support\n",
      "\n",
      "HOWEVER: the Python linked **does not** need to be your preferred Python.\n",
      "\n",
      "Solution: either install IPython and PyZMQ into system Python, or compile vim\n",
      "against a Python which has IPython and PyZMQ (Python that comes with Anaconda,\n",
      "for example)"
     ]
    },
    {
     "cell_type": "heading",
     "level": 1,
     "metadata": {},
     "source": [
      "[bipython](http://bipython.org)"
     ]
    },
    {
     "cell_type": "markdown",
     "metadata": {},
     "source": [
      "ripped out the messaging code from vim-ipython, and slapped them on top of [bpython](http://bpython-interpreter.org/)'s [urwid](http://urwid.org/) interface."
     ]
    },
    {
     "cell_type": "heading",
     "level": 1,
     "metadata": {},
     "source": [
      "Embed is you friend!"
     ]
    },
    {
     "cell_type": "markdown",
     "metadata": {},
     "source": [
      "In any Python code you have lying around, do this:\n",
      "\n",
      "```python\n",
      "import IPython; IPython.embed_kernel()\n",
      "```\n",
      "\n",
      "When that code runs, it will prompt something like this:\n",
      "\n",
      "    NOTE: When using the `ipython kernel` entry point, Ctrl-C will not work.\n",
      "\n",
      "    To exit, you will have to explicitly quit this process, by either sending\n",
      "    \"quit\" from a client, or using Ctrl-\\ in UNIX-like environments.\n",
      "\n",
      "    To read more about this, see https://github.com/ipython/ipython/issues/2049\n",
      "\n",
      "\n",
      "    To connect another client to this kernel, use:\n",
      "        --existing kernel-5979.json\n",
      "\n",
      "(demo if time permits)"
     ]
    },
    {
     "cell_type": "heading",
     "level": 1,
     "metadata": {},
     "source": [
      "Take away for clients"
     ]
    },
    {
     "cell_type": "markdown",
     "metadata": {},
     "source": [
      "You favorite tool can talk (bi-directionally) to Python!\n",
      "\n",
      "![takeout](/files/images/takeout.jpg)"
     ]
    },
    {
     "cell_type": "heading",
     "level": 1,
     "metadata": {},
     "source": [
      "Bonus slides"
     ]
    },
    {
     "cell_type": "heading",
     "level": 1,
     "metadata": {},
     "source": [
      "Lies"
     ]
    },
    {
     "cell_type": "markdown",
     "metadata": {},
     "source": [
      "ICCP over zermoq happens over multiple channels (3) not just one.\n",
      "    - stdin\n",
      "    - Shell ( action requests: execution, object introspection, code completion )\n",
      "    - IOPub ( \"broadcast channel\" )"
     ]
    },
    {
     "cell_type": "code",
     "collapsed": false,
     "input": [],
     "language": "python",
     "metadata": {},
     "outputs": []
    }
   ],
   "metadata": {}
  }
 ]
}