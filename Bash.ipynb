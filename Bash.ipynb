{
 "metadata": {
  "kernelspec": {
   "codemirror_mode": "bash",
   "display_name": "Bash",
   "language": "bash",
   "name": "bash"
  },
  "name": "",
  "signature": "sha256:4738ebb21338cc8c59cb6784c601e7df36ca84ab6387a9f515bf1ff38a69b0ef"
 },
 "nbformat": 3,
 "nbformat_minor": 0,
 "worksheets": [
  {
   "cells": [
    {
     "cell_type": "code",
     "collapsed": false,
     "input": [
      "echo \"Hello from bash\""
     ],
     "language": "python",
     "metadata": {},
     "outputs": []
    },
    {
     "cell_type": "code",
     "collapsed": false,
     "input": [
      "ls"
     ],
     "language": "python",
     "metadata": {},
     "outputs": []
    },
    {
     "cell_type": "code",
     "collapsed": false,
     "input": [
      "man sleep"
     ],
     "language": "python",
     "metadata": {},
     "outputs": []
    },
    {
     "cell_type": "code",
     "collapsed": false,
     "input": [],
     "language": "python",
     "metadata": {},
     "outputs": []
    }
   ],
   "metadata": {}
  }
 ]
}